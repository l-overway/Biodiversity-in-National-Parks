{
 "cells": [
  {
   "cell_type": "markdown",
   "metadata": {},
   "source": [
    "# Biodiversity in National Parks\n",
    "\n",
    "For this project, I will interpret data from the National Parks Service about endangered species in different parks.\n",
    "\n",
    "I will perform some data analysis on the conservation statuses of these species and investigate if there are any patterns or themes to the types of species that become endangered. During this project, I will analyze, clean up, and plot data as well as pose questions and seek to answer them in a meaningful way.\n",
    "\n",
    "After I perform my analysis, I will share my findings about the National Park Service including:\n",
    "\n",
    "* What is the distribution of conservation_status for animals?\n",
    "* Are certain types of species more likely to be endangered?\n",
    "* Are the differences between species and their conservation status significant?\n",
    "* Which species were spotted the most at each park?\n"
   ]
  },
  {
   "cell_type": "markdown",
   "metadata": {},
   "source": [
    "## Load the Data"
   ]
  },
  {
   "cell_type": "code",
   "execution_count": 1,
   "metadata": {},
   "outputs": [
    {
     "name": "stdout",
     "output_type": "stream",
     "text": [
      "  category                scientific_name  \\\n",
      "0   Mammal  Clethrionomys gapperi gapperi   \n",
      "1   Mammal                      Bos bison   \n",
      "2   Mammal                     Bos taurus   \n",
      "3   Mammal                     Ovis aries   \n",
      "4   Mammal                 Cervus elaphus   \n",
      "\n",
      "                                        common_names conservation_status  \n",
      "0                           Gapper's Red-Backed Vole                 NaN  \n",
      "1                              American Bison, Bison                 NaN  \n",
      "2  Aurochs, Aurochs, Domestic Cattle (Feral), Dom...                 NaN  \n",
      "3  Domestic Sheep, Mouflon, Red Sheep, Sheep (Feral)                 NaN  \n",
      "4                                      Wapiti Or Elk                 NaN  \n",
      "            scientific_name                            park_name  observations\n",
      "0        Vicia benghalensis  Great Smoky Mountains National Park            68\n",
      "1            Neovison vison  Great Smoky Mountains National Park            77\n",
      "2         Prunus subcordata               Yosemite National Park           138\n",
      "3      Abutilon theophrasti                  Bryce National Park            84\n",
      "4  Githopsis specularioides  Great Smoky Mountains National Park            85\n"
     ]
    }
   ],
   "source": [
    "import pandas as pd\n",
    "import numpy as np\n",
    "import matplotlib.pyplot as plt\n",
    "import glob\n",
    "\n",
    "species_info = pd.read_csv(\"species_info.csv\")\n",
    "observations = pd.read_csv(\"observations.csv\")\n",
    "print(species_info.head())\n",
    "print(observations.head())"
   ]
  },
  {
   "cell_type": "code",
   "execution_count": 2,
   "metadata": {},
   "outputs": [
    {
     "name": "stdout",
     "output_type": "stream",
     "text": [
      "            scientific_name                            park_name  \\\n",
      "0        Vicia benghalensis  Great Smoky Mountains National Park   \n",
      "1            Neovison vison  Great Smoky Mountains National Park   \n",
      "2         Prunus subcordata               Yosemite National Park   \n",
      "3      Abutilon theophrasti                  Bryce National Park   \n",
      "4  Githopsis specularioides  Great Smoky Mountains National Park   \n",
      "\n",
      "   observations        category                        common_names  \\\n",
      "0            68  Vascular Plant  Purple Vetch, Reddish Tufted Vetch   \n",
      "1            77          Mammal                       American Mink   \n",
      "2           138  Vascular Plant                        Klamath Plum   \n",
      "3            84  Vascular Plant                          Velvetleaf   \n",
      "4            85  Vascular Plant                      Common Bluecup   \n",
      "\n",
      "  conservation_status  \n",
      "0                 NaN  \n",
      "1                 NaN  \n",
      "2                 NaN  \n",
      "3                 NaN  \n",
      "4                 NaN  \n"
     ]
    }
   ],
   "source": [
    "df = pd.merge(observations, species_info, how = 'left', on='scientific_name')\n",
    "print(df.head())"
   ]
  },
  {
   "cell_type": "markdown",
   "metadata": {},
   "source": [
    "## Explore and Explain the Data"
   ]
  },
  {
   "cell_type": "markdown",
   "metadata": {},
   "source": [
    "### What is the distribution of conservation_status for animals?"
   ]
  },
  {
   "cell_type": "code",
   "execution_count": 22,
   "metadata": {},
   "outputs": [
    {
     "name": "stdout",
     "output_type": "stream",
     "text": [
      "category\n",
      "Amphibian              80\n",
      "Bird                  521\n",
      "Fish                  127\n",
      "Mammal                214\n",
      "Nonvascular Plant     333\n",
      "Reptile                79\n",
      "Vascular Plant       4470\n",
      "dtype: int64\n"
     ]
    }
   ],
   "source": [
    "print(species_info.groupby('category').size())"
   ]
  },
  {
   "cell_type": "code",
   "execution_count": 3,
   "metadata": {},
   "outputs": [
    {
     "name": "stdout",
     "output_type": "stream",
     "text": [
      "There are 5633 species that are not of concern.\n",
      "conservation_status\n",
      "Species of Concern    161\n",
      "Endangered             16\n",
      "Threatened             10\n",
      "In Recovery             4\n",
      "Name: count, dtype: int64\n"
     ]
    },
    {
     "data": {
      "text/plain": [
       "<Axes: xlabel='conservation_status'>"
      ]
     },
     "execution_count": 3,
     "metadata": {},
     "output_type": "execute_result"
    },
    {
     "data": {
      "image/png": "[encoded data removed]",
      "text/plain": [
       "<Figure size 640x480 with 1 Axes>"
      ]
     },
     "metadata": {},
     "output_type": "display_data"
    }
   ],
   "source": [
    "conservation_counts = species_info.conservation_status.value_counts()\n",
    "print('There are ' + str(species_info.conservation_status.isnull().sum()) + \" species that are not of concern.\")\n",
    "print(conservation_counts)\n",
    "conservation_counts.plot(kind='bar')"
   ]
  },
  {
   "cell_type": "markdown",
   "metadata": {},
   "source": [
    "### Are certain types of species more likely to be endangered?"
   ]
  },
  {
   "cell_type": "code",
   "execution_count": 4,
   "metadata": {},
   "outputs": [
    {
     "name": "stdout",
     "output_type": "stream",
     "text": [
      "category\n",
      "Mammal            7\n",
      "Bird              4\n",
      "Fish              3\n",
      "Vascular Plant    1\n",
      "Amphibian         1\n",
      "Name: count, dtype: int64\n"
     ]
    },
    {
     "data": {
      "text/plain": [
       "<Axes: xlabel='category'>"
      ]
     },
     "execution_count": 4,
     "metadata": {},
     "output_type": "execute_result"
    },
    {
     "data": {
      "image/png": "[encoded data removed]",
      "text/plain": [
       "<Figure size 640x480 with 1 Axes>"
      ]
     },
     "metadata": {},
     "output_type": "display_data"
    }
   ],
   "source": [
    "species_info_endangered = species_info[species_info['conservation_status'] == 'Endangered']\n",
    "category_endangered_count = species_info_endangered.category.value_counts()\n",
    "print(category_endangered_count)\n",
    "category_endangered_count.plot(kind='bar')"
   ]
  },
  {
   "cell_type": "markdown",
   "metadata": {},
   "source": [
    "### Are the differences between species and their conservation status significant?"
   ]
  },
  {
   "cell_type": "code",
   "execution_count": 5,
   "metadata": {},
   "outputs": [
    {
     "name": "stderr",
     "output_type": "stream",
     "text": [
      "C:\\Users\\lawre\\AppData\\Local\\Temp\\ipykernel_1648\\3705836565.py:3: FutureWarning: A value is trying to be set on a copy of a DataFrame or Series through chained assignment using an inplace method.\n",
      "The behavior will change in pandas 3.0. This inplace method will never work because the intermediate object on which we are setting values always behaves as a copy.\n",
      "\n",
      "For example, when doing 'df[col].method(value, inplace=True)', try using 'df.method({col: value}, inplace=True)' or df[col] = df[col].method(value) instead, to perform the operation inplace on the original object.\n",
      "\n",
      "\n",
      "  species_info.conservation_status.fillna('No Status', inplace=True)\n"
     ]
    }
   ],
   "source": [
    "from scipy.stats import chi2_contingency\n",
    "\n",
    "species_info.conservation_status.fillna('No Status', inplace=True)\n",
    "species_info['is_protected'] = species_info.apply(lambda row: 'no' if row.conservation_status == 'No Status' else 'yes', axis=1)"
   ]
  },
  {
   "cell_type": "code",
   "execution_count": 31,
   "metadata": {},
   "outputs": [
    {
     "name": "stdout",
     "output_type": "stream",
     "text": [
      "is_protected           category    no  yes\n",
      "0                     Amphibian    73    7\n",
      "1                          Bird   442   79\n",
      "2                          Fish   116   11\n",
      "3                        Mammal   176   38\n",
      "4             Nonvascular Plant   328    5\n",
      "5                       Reptile    74    5\n",
      "6                Vascular Plant  4424   46\n"
     ]
    }
   ],
   "source": [
    "category_is_protected = species_info[['category', 'is_protected']]\n",
    "category_protected_counts = category_is_protected.groupby(['category','is_protected']).size().unstack().reset_index()\n",
    "print(category_protected_counts)"
   ]
  },
  {
   "cell_type": "code",
   "execution_count": 56,
   "metadata": {},
   "outputs": [
    {
     "name": "stdout",
     "output_type": "stream",
     "text": [
      "The conservation status relationship between Amphibian and Bird is not significant with a p value of 0.18\n",
      "The conservation status relationship between Amphibian and Fish is not significant with a p value of 1.0\n",
      "The conservation status relationship between Amphibian and Mammal is not significant with a p value of 0.08\n",
      "The conservation status relationship between Amphibian and Nonvascular Plant is significant with a p value of 0.0\n",
      "The conservation status relationship between Amphibian and Reptile is not significant with a p value of 0.78\n",
      "The conservation status relationship between Amphibian and Vascular Plant is significant with a p value of 0.0\n",
      "The conservation status relationship between Bird and Amphibian is not significant with a p value of 0.18\n",
      "The conservation status relationship between Bird and Fish is not significant with a p value of 0.08\n",
      "The conservation status relationship between Bird and Mammal is not significant with a p value of 0.45\n",
      "The conservation status relationship between Bird and Nonvascular Plant is significant with a p value of 0.0\n",
      "The conservation status relationship between Bird and Reptile is not significant with a p value of 0.05\n",
      "The conservation status relationship between Bird and Vascular Plant is significant with a p value of 0.0\n",
      "The conservation status relationship between Fish and Amphibian is not significant with a p value of 1.0\n",
      "The conservation status relationship between Fish and Bird is not significant with a p value of 0.08\n",
      "The conservation status relationship between Fish and Mammal is significant with a p value of 0.03\n",
      "The conservation status relationship between Fish and Nonvascular Plant is significant with a p value of 0.0\n",
      "The conservation status relationship between Fish and Reptile is not significant with a p value of 0.73\n",
      "The conservation status relationship between Fish and Vascular Plant is significant with a p value of 0.0\n",
      "The conservation status relationship between Mammal and Amphibian is not significant with a p value of 0.08\n",
      "The conservation status relationship between Mammal and Bird is not significant with a p value of 0.45\n",
      "The conservation status relationship between Mammal and Fish is significant with a p value of 0.03\n",
      "The conservation status relationship between Mammal and Nonvascular Plant is significant with a p value of 0.0\n",
      "The conservation status relationship between Mammal and Reptile is significant with a p value of 0.02\n",
      "The conservation status relationship between Mammal and Vascular Plant is significant with a p value of 0.0\n",
      "The conservation status relationship between Nonvascular Plant and Amphibian is significant with a p value of 0.0\n",
      "The conservation status relationship between Nonvascular Plant and Bird is significant with a p value of 0.0\n",
      "The conservation status relationship between Nonvascular Plant and Fish is significant with a p value of 0.0\n",
      "The conservation status relationship between Nonvascular Plant and Mammal is significant with a p value of 0.0\n",
      "The conservation status relationship between Nonvascular Plant and Reptile is significant with a p value of 0.04\n",
      "The conservation status relationship between Nonvascular Plant and Vascular Plant is not significant with a p value of 0.59\n",
      "The conservation status relationship between Reptile and Amphibian is not significant with a p value of 0.78\n",
      "The conservation status relationship between Reptile and Bird is not significant with a p value of 0.05\n",
      "The conservation status relationship between Reptile and Fish is not significant with a p value of 0.73\n",
      "The conservation status relationship between Reptile and Mammal is significant with a p value of 0.02\n",
      "The conservation status relationship between Reptile and Nonvascular Plant is significant with a p value of 0.04\n",
      "The conservation status relationship between Reptile and Vascular Plant is significant with a p value of 0.0\n",
      "The conservation status relationship between Vascular Plant and Amphibian is significant with a p value of 0.0\n",
      "The conservation status relationship between Vascular Plant and Bird is significant with a p value of 0.0\n",
      "The conservation status relationship between Vascular Plant and Fish is significant with a p value of 0.0\n",
      "The conservation status relationship between Vascular Plant and Mammal is significant with a p value of 0.0\n",
      "The conservation status relationship between Vascular Plant and Nonvascular Plant is not significant with a p value of 0.59\n",
      "The conservation status relationship between Vascular Plant and Reptile is significant with a p value of 0.0\n"
     ]
    }
   ],
   "source": [
    "for i in range(len(category_protected_counts)):\n",
    "    for j in range(len(category_protected_counts)):\n",
    "        if i == j:\n",
    "            continue\n",
    "        else:\n",
    "            contingency1 = category_protected_counts.loc[[i,j],['no','yes']]\n",
    "            res = chi2_contingency(contingency1)\n",
    "            if res.pvalue <= 0.05:\n",
    "                print(\"The conservation status relationship between \" + category_protected_counts.category[i] + \" and \" + category_protected_counts.category[j] + \" is significant with a p value of \" + str(round(res.pvalue, 2)))\n",
    "            else:\n",
    "                print(\"The conservation status relationship between \" + category_protected_counts.category[i] + \" and \" + category_protected_counts.category[j] + \" is not significant with a p value of \" + str(round(res.pvalue, 2)))"
   ]
  },
  {
   "cell_type": "markdown",
   "metadata": {},
   "source": [
    "### Which species were spotted the most at each park?"
   ]
  },
  {
   "cell_type": "code",
   "execution_count": 71,
   "metadata": {},
   "outputs": [
    {
     "name": "stdout",
     "output_type": "stream",
     "text": [
      "                                     common_names  observations\n",
      "park_name                                                      \n",
      "Bryce National Park                  Zygodon Moss           176\n",
      "Great Smoky Mountains National Park  Zygodon Moss           147\n",
      "Yellowstone National Park            Zygodon Moss           321\n",
      "Yosemite National Park               Zygodon Moss           223\n"
     ]
    }
   ],
   "source": [
    "park_common_observations = df[['park_name','common_names','observations']]\n",
    "observations_by_park = park_common_observations.groupby('park_name').max()\n",
    "print(observations_by_park)"
   ]
  }
 ],
 "metadata": {
  "kernelspec": {
   "display_name": "Python 3 (ipykernel)",
   "language": "python",
   "name": "python3"
  },
  "language_info": {
   "codemirror_mode": {
    "name": "ipython",
    "version": 3
   },
   "file_extension": ".py",
   "mimetype": "text/x-python",
   "name": "python",
   "nbconvert_exporter": "python",
   "pygments_lexer": "ipython3",
   "version": "3.11.7"
  }
 },
 "nbformat": 4,
 "nbformat_minor": 4
}
